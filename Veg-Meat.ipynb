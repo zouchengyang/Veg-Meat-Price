{
 "cells": [
  {
   "cell_type": "code",
   "execution_count": 3,
   "metadata": {},
   "outputs": [],
   "source": [
    "from scipy.optimize import minimize\n"
   ]
  },
  {
   "cell_type": "code",
   "execution_count": 4,
   "metadata": {},
   "outputs": [
    {
     "name": "stdout",
     "output_type": "stream",
     "text": [
      "Optimal V: 0.7560975614223482\n",
      "Optimal M: 1.1024390238229862\n",
      "Minimum value of the objective function: 0.6585365853658537\n",
      "1: 0.0536882801641715,2: 0.007287328915154762,3: 0.047120761346870946,4: 0.41147531246871616,5: 0.001522903087588543,6: 0.13744199938335178\n"
     ]
    }
   ],
   "source": [
    "def objective_function(variables):\n",
    "    V, M = variables\n",
    "    return ((3 * V - 2.5) ** 2 +\n",
    "            (2 * V + M - 2.7) ** 2 +\n",
    "            (2 * V + 2*M - 3.5) ** 2+\n",
    "            (V  + M - 2.5) ** 2 +\n",
    "            (V + 2 * M - 3) ** 2 +\n",
    "            (3 * V + M - 3) ** 2)\n",
    "\n",
    "initial_guess = [1, 1]\n",
    "result = minimize(objective_function, initial_guess)\n",
    "V_opt, M_opt = result.x\n",
    "min_value = result.fun\n",
    "\n",
    "print(f\"Optimal V: {V_opt}\")\n",
    "print(f\"Optimal M: {M_opt}\")\n",
    "print(f\"Minimum value of the objective function: {min_value}\")\n",
    "print(f\"1: {(3 * V_opt - 2.5) ** 2},2: {(2 * V_opt + M_opt - 2.7) ** 2},3: {(2 * V_opt + 2*M_opt - 3.5) ** 2},4: {( V_opt + M_opt - 2.5) ** 2},5: {( V_opt + 2*M_opt - 3) ** 2},6: {(3 * V_opt + M_opt - 3) ** 2}\")"
   ]
  },
  {
   "cell_type": "code",
   "execution_count": 5,
   "metadata": {},
   "outputs": [
    {
     "name": "stdout",
     "output_type": "stream",
     "text": [
      "Optimal V: 0.7604026830497511\n",
      "Optimal M: 1.033557047998892\n",
      "Minimum value of the objective function: 0.2056375838926176\n",
      "1: 0.04786991775707549,2: 0.021210306427247708,3: 0.007729831815476122,4: 0.029750461510136838,5: 0.09907706638268146\n"
     ]
    }
   ],
   "source": [
    "def objective_function(variables):\n",
    "    V, M = variables\n",
    "    return ((3 * V - 2.5) ** 2 +\n",
    "            (2 * V + M - 2.7) ** 2 +\n",
    "            (2 * V + 2*M - 3.5) ** 2+\n",
    "            ( V + 2*M - 3) ** 2 +\n",
    "            (3 * V + M - 3) ** 2)\n",
    "\n",
    "initial_guess = [1, 1]\n",
    "result = minimize(objective_function, initial_guess)\n",
    "V_opt, M_opt = result.x\n",
    "min_value = result.fun\n",
    "\n",
    "print(f\"Optimal V: {V_opt}\")\n",
    "print(f\"Optimal M: {M_opt}\")\n",
    "print(f\"Minimum value of the objective function: {min_value}\")\n",
    "print(f\"1: {(3 * V_opt - 2.5) ** 2},2: {(2 * V_opt + M_opt - 2.7) ** 2},3: {(2 * V_opt + 2*M_opt - 3.5) ** 2},4: {( V_opt + 2*M_opt - 3) ** 2},5: {(3 * V_opt + M_opt - 3) ** 2}\")"
   ]
  },
  {
   "cell_type": "code",
   "execution_count": 6,
   "metadata": {},
   "outputs": [
    {
     "name": "stdout",
     "output_type": "stream",
     "text": [
      "Optimal V: 0.8214285703089517\n",
      "Optimal M: 1.0142857143205584\n",
      "Minimum value of the objective function: 0.055000000000000035\n",
      "1: 0.0012755104440001644,2: 0.0018367348828257522,3: 0.029387754358194636,5: 0.022500000314979483\n"
     ]
    }
   ],
   "source": [
    "def objective_function(variables):\n",
    "    V, M = variables\n",
    "    return ((3 * V - 2.5) ** 2 +\n",
    "            (2 * V + M - 2.7) ** 2 +\n",
    "            (2 * V + 2*M - 3.5) ** 2+\n",
    "            (V + 2 * M - 3) ** 2 )\n",
    "\n",
    "initial_guess = [1, 1]\n",
    "result = minimize(objective_function, initial_guess)\n",
    "V_opt, M_opt = result.x\n",
    "min_value = result.fun\n",
    "\n",
    "print(f\"Optimal V: {V_opt}\")\n",
    "print(f\"Optimal M: {M_opt}\")\n",
    "print(f\"Minimum value of the objective function: {min_value}\")\n",
    "print(f\"1: {(3 * V_opt - 2.5) ** 2},2: {(2 * V_opt + M_opt - 2.7) ** 2},3: {(2 * V_opt + 2*M_opt - 3.5) ** 2},5: {( V_opt + 2*M_opt - 3) ** 2}\")"
   ]
  },
  {
   "cell_type": "code",
   "execution_count": 7,
   "metadata": {},
   "outputs": [
    {
     "name": "stdout",
     "output_type": "stream",
     "text": [
      "Optimal V: 0.7560975609756098\n",
      "Optimal M: 1.102439024390244\n",
      "Residuals: [-0.23170732 -0.08536585  0.21707317 -0.64146341 -0.03902439  0.37073171]\n"
     ]
    }
   ],
   "source": [
    "from scipy.optimize import least_squares\n",
    "def residuals(variables):\n",
    "    V, M = variables\n",
    "    return [\n",
    "        3 * V - 2.5,\n",
    "        2 * V + M - 2.7,\n",
    "        2 * V + 2*M - 3.5,\n",
    "        V  + M - 2.5,\n",
    "        V + 2 * M - 3,\n",
    "        3 * V + M - 3\n",
    "    ]\n",
    "\n",
    "initial_guess = [1, 1]\n",
    "result = least_squares(residuals, initial_guess)\n",
    "\n",
    "V_opt, M_opt = result.x\n",
    "print(f\"Optimal V: {V_opt}\")\n",
    "print(f\"Optimal M: {M_opt}\")\n",
    "print(f\"Residuals: {result.fun}\")\n"
   ]
  },
  {
   "cell_type": "code",
   "execution_count": 8,
   "metadata": {},
   "outputs": [
    {
     "name": "stdout",
     "output_type": "stream",
     "text": [
      "Optimal V: 0.8214285714285715\n",
      "Optimal M: 1.0142857142857142\n",
      "Residuals: [-0.03571429 -0.04285714  0.17142857 -0.15      ]\n"
     ]
    }
   ],
   "source": [
    "def residuals(variables):\n",
    "    V, M = variables\n",
    "    return [\n",
    "        3 * V - 2.5,\n",
    "        2 * V + M - 2.7,\n",
    "        2 * V + 2*M - 3.5,\n",
    "        V + 2 * M - 3\n",
    "    ]\n",
    "\n",
    "initial_guess = [1, 1]\n",
    "result = least_squares(residuals, initial_guess)\n",
    "\n",
    "V_opt, M_opt = result.x\n",
    "print(f\"Optimal V: {V_opt}\")\n",
    "print(f\"Optimal M: {M_opt}\")\n",
    "print(f\"Residuals: {result.fun}\")"
   ]
  }
 ],
 "metadata": {
  "kernelspec": {
   "display_name": "base",
   "language": "python",
   "name": "python3"
  },
  "language_info": {
   "codemirror_mode": {
    "name": "ipython",
    "version": 3
   },
   "file_extension": ".py",
   "mimetype": "text/x-python",
   "name": "python",
   "nbconvert_exporter": "python",
   "pygments_lexer": "ipython3",
   "version": "3.12.4"
  }
 },
 "nbformat": 4,
 "nbformat_minor": 2
}
